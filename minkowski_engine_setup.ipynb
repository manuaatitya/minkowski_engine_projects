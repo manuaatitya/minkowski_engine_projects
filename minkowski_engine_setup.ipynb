{
  "nbformat": 4,
  "nbformat_minor": 0,
  "metadata": {
    "colab": {
      "name": "minkowski_engine_setup.ipynb",
      "provenance": [],
      "collapsed_sections": [],
      "authorship_tag": "ABX9TyOFew2+jNgia5YtrCcoVjXi",
      "include_colab_link": true
    },
    "kernelspec": {
      "name": "python3",
      "display_name": "Python 3"
    },
    "accelerator": "GPU"
  },
  "cells": [
    {
      "cell_type": "markdown",
      "metadata": {
        "id": "view-in-github",
        "colab_type": "text"
      },
      "source": [
        "<a href=\"https://colab.research.google.com/github/manuaatitya/minkowski_engine_projects/blob/main/minkowski_engine_setup.ipynb\" target=\"_parent\"><img src=\"https://colab.research.google.com/assets/colab-badge.svg\" alt=\"Open In Colab\"/></a>"
      ]
    },
    {
      "cell_type": "code",
      "metadata": {
        "id": "v-yK45JAsCqN"
      },
      "source": [
        "################################################################################\r\n",
        "# INSTALL CONDA ON GOOGLE COLAB\r\n",
        "################################################################################\r\n",
        "\r\n",
        "# Comment out capture if you wish to see the output of cells \r\n",
        "%%capture \r\n",
        "\r\n",
        "! wget -nc https://repo.anaconda.com/miniconda/Miniconda3-py37_4.8.2-Linux-x86_64.sh\r\n",
        "! chmod +x Miniconda3-py37_4.8.2-Linux-x86_64.sh\r\n",
        "! bash ./Miniconda3-py37_4.8.2-Linux-x86_64.sh -b -f -p /usr/local\r\n",
        "import sys\r\n",
        "sys.path.append('/usr/local/lib/python3.7/site-packages/')"
      ],
      "execution_count": 1,
      "outputs": []
    },
    {
      "cell_type": "code",
      "metadata": {
        "id": "Pj8JAxdiiHbf"
      },
      "source": [
        "################################################################################\r\n",
        "# INSTALL DEPENDENCIES FOR MINKOWSKI ENGINE\r\n",
        "################################################################################\r\n",
        "\r\n",
        "# Comment out capture if you wish to see the output of cells \r\n",
        "%%capture \r\n",
        "\r\n",
        "# 1. Install libopenblas\r\n",
        "! sudo apt install libopenblas-dev\r\n",
        "\r\n",
        "# 2. Install Pytorch\r\n",
        "! pip install torch\r\n",
        "\r\n",
        "# 3. Install the Minkowski Engine package\r\n",
        "# This takes a lot of time so do it before and keep it ready\r\n",
        "! pip install -U MinkowskiEngine --install-option=\"--blas=openblas\" -v "
      ],
      "execution_count": 2,
      "outputs": []
    },
    {
      "cell_type": "code",
      "metadata": {
        "id": "iUsJom0eic3o"
      },
      "source": [
        "# Check if Anaconda is installed properly\r\n",
        "%%capture\r\n",
        "! conda --version"
      ],
      "execution_count": 11,
      "outputs": []
    },
    {
      "cell_type": "code",
      "metadata": {
        "id": "LvqXXgBqjHYg"
      },
      "source": [
        "################################################################################\r\n",
        "# CREATE A VIRTUAL ENVIRONMENT in CONDA FOR MINKOWSKI ENGINE\r\n",
        "################################################################################\r\n",
        "\r\n",
        "# Comment out capture if you wish to see the output of cells \r\n",
        "%%capture \r\n",
        "\r\n",
        "# Press y if prompted to ask to proceed\r\n",
        "\r\n",
        "! conda create -n py3-mink python=3.7\r\n",
        "! conda activate py3-mink\r\n",
        "! conda install -y numpy mkl-include pytorch cudatoolkit=10.2 -c pytorch"
      ],
      "execution_count": 14,
      "outputs": []
    },
    {
      "cell_type": "code",
      "metadata": {
        "id": "ZNuvccautPqW"
      },
      "source": [
        ""
      ],
      "execution_count": null,
      "outputs": []
    }
  ]
}